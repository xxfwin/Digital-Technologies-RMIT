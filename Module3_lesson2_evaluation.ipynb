{
 "cells": [
  {
   "cell_type": "markdown",
   "id": "0a9d1932-4eb4-437e-bcc5-f2e88b2b0406",
   "metadata": {},
   "source": [
    "* Data split\n",
    "  * Traing test split\n",
    "  * K-fold cross validation"
   ]
  },
  {
   "cell_type": "code",
   "execution_count": 32,
   "id": "c4825cf2-4ecf-4bd3-aa92-1396da0ead81",
   "metadata": {},
   "outputs": [
    {
     "name": "stdout",
     "output_type": "stream",
     "text": [
      "Raw data shape:  (150, 4) (150,)\n",
      "Training data shape:  (112, 4) (112,)\n",
      "Testomg data shape:  (38, 4) (38,)\n"
     ]
    }
   ],
   "source": [
    "# Data split example\n",
    "# Part of the codes are from https://scikit-learn.org/stable/modules/cross_validation.html\n",
    "# With modification by Xiaofei Xu\n",
    "\n",
    "# Import the packages\n",
    "from sklearn.model_selection import train_test_split\n",
    "from sklearn import datasets\n",
    "\n",
    "# Load Iris data using scikit-learn provided function\n",
    "X, y = datasets.load_iris(return_X_y=True)\n",
    "\n",
    "print(\"Raw data shape: \",X.shape, y.shape)\n",
    "\n",
    "# Split train/test set using train_test_split\n",
    "X_train, X_test, y_train, y_test = train_test_split(\n",
    "    X, y, test_size=0.25, random_state=0)\n",
    "\n",
    "print(\"Training data shape: \", X_train.shape, y_train.shape)\n",
    "\n",
    "print(\"Testomg data shape: \", X_test.shape, y_test.shape)\n"
   ]
  },
  {
   "cell_type": "code",
   "execution_count": 31,
   "id": "ddffc6d4-7747-4dee-ba42-113589782149",
   "metadata": {},
   "outputs": [
    {
     "name": "stdout",
     "output_type": "stream",
     "text": [
      "(100, 4) (50,)\n",
      "(100, 4) (50,)\n",
      "(100, 4) (50,)\n"
     ]
    }
   ],
   "source": [
    "# manually split the data using K-fold cross validation\n",
    "from sklearn.model_selection import KFold\n",
    "\n",
    "kf = KFold(n_splits=3)\n",
    "for train_index, test_index in kf.split(X):\n",
    "    train_k, test_k = X[train_index], y[test_index]\n",
    "    \n",
    "    print(train_k.shape, test_k.shape)"
   ]
  },
  {
   "cell_type": "code",
   "execution_count": 30,
   "id": "4847f239-afaa-4f0f-9f94-89fb001da4b8",
   "metadata": {},
   "outputs": [
    {
     "name": "stdout",
     "output_type": "stream",
     "text": [
      "[1.   1.   0.98]\n"
     ]
    }
   ],
   "source": [
    "# scikit-learn built in model fit on k-fold cross validation\n",
    "from sklearn.model_selection import cross_val_score\n",
    "from sklearn import svm\n",
    "SVM_classifier = svm.SVC(kernel='linear', C=1)\n",
    "scores = cross_val_score(clf, X, y, cv=3)\n",
    "print(scores)\n"
   ]
  },
  {
   "cell_type": "markdown",
   "id": "49a5df49-b0ad-4570-8f5f-a425f408fa7c",
   "metadata": {},
   "source": [
    "* Evaluation metrics\n",
    "  * Confusion matrix\n",
    "  * Accuracy\n",
    "  * Precision\n",
    "  * Recall\n",
    "  * F1\n",
    "  * False positive rate\n",
    "  * ROC"
   ]
  },
  {
   "cell_type": "code",
   "execution_count": 43,
   "id": "220cb022-db66-4669-a6d7-40cfd2b5b1f9",
   "metadata": {},
   "outputs": [
    {
     "name": "stdout",
     "output_type": "stream",
     "text": [
      "[[52  1]\n",
      " [ 5 85]]\n",
      "tn, fp, fn, tp:  52 1 5 85\n"
     ]
    }
   ],
   "source": [
    "# Starting by create a classification model based on Iris dataset\n",
    "# Import the packages\n",
    "from sklearn.model_selection import train_test_split\n",
    "from sklearn import datasets\n",
    "\n",
    "# Load Iris data using scikit-learn provided function\n",
    "X, y = datasets.load_breast_cancer(return_X_y=True)\n",
    "# Split train/test set using train_test_split\n",
    "X_train, X_test, y_train, y_test = train_test_split(\n",
    "    X, y, test_size=0.25, random_state=0)\n",
    "\n",
    "from sklearn import svm\n",
    "from sklearn.metrics import confusion_matrix\n",
    "# Build SVM model and fit the model using data\n",
    "SVM_classifier = svm.SVC(kernel='linear', C=1)\n",
    "SVM_classifier.fit(X_train, y_train)\n",
    "\n",
    "y_predict = SVM_classifier.predict(X_test)\n",
    "svm_cm = confusion_matrix(y_test, y_predict)\n",
    "\n",
    "print(svm_cm)\n",
    "\n",
    "tn, fp, fn, tp = confusion_matrix(y_test, y_predict).ravel()\n",
    "print(\"tn, fp, fn, tp: \", tn, fp, fn, tp)"
   ]
  },
  {
   "cell_type": "code",
   "execution_count": 47,
   "id": "9bc62871-8978-42c1-99bd-f79881279803",
   "metadata": {},
   "outputs": [
    {
     "name": "stdout",
     "output_type": "stream",
     "text": [
      "accuracy: 0.958041958041958\n",
      "precision: 0.9883720930232558\n",
      "recall: 0.9444444444444444\n",
      "f1: 0.9659090909090908\n",
      "FPR: 0.018867924528301886\n"
     ]
    },
    {
     "data": {
      "image/png": "[encoded data removed]",
      "text/plain": [
       "<Figure size 432x288 with 1 Axes>"
      ]
     },
     "metadata": {
      "needs_background": "light"
     },
     "output_type": "display_data"
    }
   ],
   "source": [
    "from sklearn.metrics import accuracy_score, precision_score, recall_score, f1_score\n",
    "from sklearn.metrics import roc_curve\n",
    "from sklearn.metrics import RocCurveDisplay\n",
    "\n",
    "print(\"accuracy:\", accuracy_score(y_test, y_predict))\n",
    "print(\"precision:\", precision_score(y_test, y_predict))\n",
    "print(\"recall:\", recall_score(y_test, y_predict))\n",
    "print(\"f1:\", f1_score(y_test, y_predict))\n",
    "print(\"FPR:\", fp / (fp+tn))\n",
    "\n",
    "fpr, tpr, _ = roc_curve(y_test, y_predict, pos_label=SVM_classifier.classes_[1])\n",
    "roc_display = RocCurveDisplay(fpr=fpr, tpr=tpr).plot()"
   ]
  }
 ],
 "metadata": {
  "kernelspec": {
   "display_name": "Python 3 (ipykernel)",
   "language": "python",
   "name": "python3"
  },
  "language_info": {
   "codemirror_mode": {
    "name": "ipython",
    "version": 3
   },
   "file_extension": ".py",
   "mimetype": "text/x-python",
   "name": "python",
   "nbconvert_exporter": "python",
   "pygments_lexer": "ipython3",
   "version": "3.9.12"
  }
 },
 "nbformat": 4,
 "nbformat_minor": 5
}
