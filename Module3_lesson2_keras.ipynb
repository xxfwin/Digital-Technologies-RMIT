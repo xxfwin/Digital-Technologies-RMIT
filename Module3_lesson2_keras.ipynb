{
 "cells": [
  {
   "cell_type": "code",
   "execution_count": 1,
   "id": "f20515a8-539c-492f-8f99-4c9d1c7186dd",
   "metadata": {},
   "outputs": [
    {
     "name": "stdout",
     "output_type": "stream",
     "text": [
      "Requirement already satisfied: tensorflow==2.9.1 in ./.conda/envs/jupyter/lib/python3.9/site-packages (2.9.1)\n",
      "Requirement already satisfied: google-pasta>=0.1.1 in ./.conda/envs/jupyter/lib/python3.9/site-packages (from tensorflow==2.9.1) (0.2.0)\n",
      "Requirement already satisfied: astunparse>=1.6.0 in ./.conda/envs/jupyter/lib/python3.9/site-packages (from tensorflow==2.9.1) (1.6.3)\n",
      "Requirement already satisfied: h5py>=2.9.0 in ./.conda/envs/jupyter/lib/python3.9/site-packages (from tensorflow==2.9.1) (3.7.0)\n",
      "Requirement already satisfied: libclang>=13.0.0 in ./.conda/envs/jupyter/lib/python3.9/site-packages (from tensorflow==2.9.1) (14.0.6)\n",
      "Requirement already satisfied: tensorflow-io-gcs-filesystem>=0.23.1 in ./.conda/envs/jupyter/lib/python3.9/site-packages (from tensorflow==2.9.1) (0.27.0)\n",
      "Requirement already satisfied: termcolor>=1.1.0 in ./.conda/envs/jupyter/lib/python3.9/site-packages (from tensorflow==2.9.1) (2.0.1)\n",
      "Requirement already satisfied: flatbuffers<2,>=1.12 in ./.conda/envs/jupyter/lib/python3.9/site-packages (from tensorflow==2.9.1) (1.12)\n",
      "Requirement already satisfied: opt-einsum>=2.3.2 in ./.conda/envs/jupyter/lib/python3.9/site-packages (from tensorflow==2.9.1) (3.3.0)\n",
      "Requirement already satisfied: tensorboard<2.10,>=2.9 in ./.conda/envs/jupyter/lib/python3.9/site-packages (from tensorflow==2.9.1) (2.9.1)\n",
      "Requirement already satisfied: absl-py>=1.0.0 in ./.conda/envs/jupyter/lib/python3.9/site-packages (from tensorflow==2.9.1) (1.2.0)\n",
      "Requirement already satisfied: keras<2.10.0,>=2.9.0rc0 in ./.conda/envs/jupyter/lib/python3.9/site-packages (from tensorflow==2.9.1) (2.9.0)\n",
      "Requirement already satisfied: six>=1.12.0 in ./.conda/envs/jupyter/lib/python3.9/site-packages (from tensorflow==2.9.1) (1.16.0)\n",
      "Requirement already satisfied: gast<=0.4.0,>=0.2.1 in ./.conda/envs/jupyter/lib/python3.9/site-packages (from tensorflow==2.9.1) (0.4.0)\n",
      "Requirement already satisfied: grpcio<2.0,>=1.24.3 in ./.conda/envs/jupyter/lib/python3.9/site-packages (from tensorflow==2.9.1) (1.49.1)\n",
      "Requirement already satisfied: tensorflow-estimator<2.10.0,>=2.9.0rc0 in ./.conda/envs/jupyter/lib/python3.9/site-packages (from tensorflow==2.9.1) (2.9.0)\n",
      "Requirement already satisfied: typing-extensions>=3.6.6 in ./.conda/envs/jupyter/lib/python3.9/site-packages (from tensorflow==2.9.1) (4.4.0)\n",
      "Requirement already satisfied: packaging in ./.local/lib/python3.9/site-packages (from tensorflow==2.9.1) (21.3)\n",
      "Requirement already satisfied: setuptools in ./.conda/envs/jupyter/lib/python3.9/site-packages (from tensorflow==2.9.1) (61.2.0)\n",
      "Requirement already satisfied: wrapt>=1.11.0 in ./.conda/envs/jupyter/lib/python3.9/site-packages (from tensorflow==2.9.1) (1.14.1)\n",
      "Requirement already satisfied: keras-preprocessing>=1.1.1 in ./.conda/envs/jupyter/lib/python3.9/site-packages (from tensorflow==2.9.1) (1.1.2)\n",
      "Requirement already satisfied: numpy>=1.20 in ./.local/lib/python3.9/site-packages (from tensorflow==2.9.1) (1.23.1)\n",
      "Requirement already satisfied: protobuf<3.20,>=3.9.2 in ./.conda/envs/jupyter/lib/python3.9/site-packages (from tensorflow==2.9.1) (3.19.6)\n",
      "Requirement already satisfied: wheel<1.0,>=0.23.0 in ./.conda/envs/jupyter/lib/python3.9/site-packages (from astunparse>=1.6.0->tensorflow==2.9.1) (0.37.1)\n",
      "Requirement already satisfied: markdown>=2.6.8 in ./.conda/envs/jupyter/lib/python3.9/site-packages (from tensorboard<2.10,>=2.9->tensorflow==2.9.1) (3.4.1)\n",
      "Requirement already satisfied: google-auth-oauthlib<0.5,>=0.4.1 in ./.conda/envs/jupyter/lib/python3.9/site-packages (from tensorboard<2.10,>=2.9->tensorflow==2.9.1) (0.4.6)\n",
      "Requirement already satisfied: tensorboard-plugin-wit>=1.6.0 in ./.conda/envs/jupyter/lib/python3.9/site-packages (from tensorboard<2.10,>=2.9->tensorflow==2.9.1) (1.8.1)\n",
      "Requirement already satisfied: tensorboard-data-server<0.7.0,>=0.6.0 in ./.conda/envs/jupyter/lib/python3.9/site-packages (from tensorboard<2.10,>=2.9->tensorflow==2.9.1) (0.6.1)\n",
      "Requirement already satisfied: werkzeug>=1.0.1 in ./.conda/envs/jupyter/lib/python3.9/site-packages (from tensorboard<2.10,>=2.9->tensorflow==2.9.1) (2.2.2)\n",
      "Requirement already satisfied: requests<3,>=2.21.0 in ./.conda/envs/jupyter/lib/python3.9/site-packages (from tensorboard<2.10,>=2.9->tensorflow==2.9.1) (2.27.1)\n",
      "Requirement already satisfied: google-auth<3,>=1.6.3 in ./.conda/envs/jupyter/lib/python3.9/site-packages (from tensorboard<2.10,>=2.9->tensorflow==2.9.1) (2.12.0)\n",
      "Requirement already satisfied: rsa<5,>=3.1.4 in ./.conda/envs/jupyter/lib/python3.9/site-packages (from google-auth<3,>=1.6.3->tensorboard<2.10,>=2.9->tensorflow==2.9.1) (4.9)\n",
      "Requirement already satisfied: cachetools<6.0,>=2.0.0 in ./.conda/envs/jupyter/lib/python3.9/site-packages (from google-auth<3,>=1.6.3->tensorboard<2.10,>=2.9->tensorflow==2.9.1) (5.2.0)\n",
      "Requirement already satisfied: pyasn1-modules>=0.2.1 in ./.conda/envs/jupyter/lib/python3.9/site-packages (from google-auth<3,>=1.6.3->tensorboard<2.10,>=2.9->tensorflow==2.9.1) (0.2.8)\n",
      "Requirement already satisfied: requests-oauthlib>=0.7.0 in ./.conda/envs/jupyter/lib/python3.9/site-packages (from google-auth-oauthlib<0.5,>=0.4.1->tensorboard<2.10,>=2.9->tensorflow==2.9.1) (1.3.1)\n",
      "Requirement already satisfied: importlib-metadata>=4.4 in ./.conda/envs/jupyter/lib/python3.9/site-packages (from markdown>=2.6.8->tensorboard<2.10,>=2.9->tensorflow==2.9.1) (4.12.0)\n",
      "Requirement already satisfied: zipp>=0.5 in ./.conda/envs/jupyter/lib/python3.9/site-packages (from importlib-metadata>=4.4->markdown>=2.6.8->tensorboard<2.10,>=2.9->tensorflow==2.9.1) (3.8.1)\n",
      "Requirement already satisfied: pyasn1<0.5.0,>=0.4.6 in ./.conda/envs/jupyter/lib/python3.9/site-packages (from pyasn1-modules>=0.2.1->google-auth<3,>=1.6.3->tensorboard<2.10,>=2.9->tensorflow==2.9.1) (0.4.8)\n",
      "Requirement already satisfied: idna<4,>=2.5 in ./.conda/envs/jupyter/lib/python3.9/site-packages (from requests<3,>=2.21.0->tensorboard<2.10,>=2.9->tensorflow==2.9.1) (3.3)\n",
      "Requirement already satisfied: certifi>=2017.4.17 in ./.conda/envs/jupyter/lib/python3.9/site-packages (from requests<3,>=2.21.0->tensorboard<2.10,>=2.9->tensorflow==2.9.1) (2022.6.15)\n",
      "Requirement already satisfied: charset-normalizer~=2.0.0 in ./.conda/envs/jupyter/lib/python3.9/site-packages (from requests<3,>=2.21.0->tensorboard<2.10,>=2.9->tensorflow==2.9.1) (2.0.4)\n",
      "Requirement already satisfied: urllib3<1.27,>=1.21.1 in ./.conda/envs/jupyter/lib/python3.9/site-packages (from requests<3,>=2.21.0->tensorboard<2.10,>=2.9->tensorflow==2.9.1) (1.26.8)\n",
      "Requirement already satisfied: oauthlib>=3.0.0 in ./.conda/envs/jupyter/lib/python3.9/site-packages (from requests-oauthlib>=0.7.0->google-auth-oauthlib<0.5,>=0.4.1->tensorboard<2.10,>=2.9->tensorflow==2.9.1) (3.2.1)\n",
      "Requirement already satisfied: MarkupSafe>=2.1.1 in ./.conda/envs/jupyter/lib/python3.9/site-packages (from werkzeug>=1.0.1->tensorboard<2.10,>=2.9->tensorflow==2.9.1) (2.1.1)\n",
      "Requirement already satisfied: pyparsing!=3.0.5,>=2.0.2 in ./.local/lib/python3.9/site-packages (from packaging->tensorflow==2.9.1) (3.0.9)\n"
     ]
    }
   ],
   "source": [
    "!python -m pip install tensorflow==2.9.1"
   ]
  },
  {
   "cell_type": "markdown",
   "id": "5340b941-dd09-4d86-b763-78397452460d",
   "metadata": {},
   "source": [
    "* The following code demonstrated using Keras to build a deep learing model to solve classification problem on imdb data"
   ]
  },
  {
   "cell_type": "code",
   "execution_count": 2,
   "id": "50d035f7-b768-4630-9065-f424d3ee191a",
   "metadata": {},
   "outputs": [
    {
     "name": "stderr",
     "output_type": "stream",
     "text": [
      "2022-10-09 05:33:38.444320: W tensorflow/stream_executor/platform/default/dso_loader.cc:64] Could not load dynamic library 'libcudart.so.11.0'; dlerror: libcudart.so.11.0: cannot open shared object file: No such file or directory\n",
      "2022-10-09 05:33:38.444377: I tensorflow/stream_executor/cuda/cudart_stub.cc:29] Ignore above cudart dlerror if you do not have a GPU set up on your machine.\n"
     ]
    },
    {
     "name": "stdout",
     "output_type": "stream",
     "text": [
      "(25000,)\n",
      "(25000,)\n",
      "[1, 14, 22, 16, 43, 530, 973, 2, 2, 65, 458, 2, 66, 2, 4, 173, 36, 256, 5, 25, 100, 43, 838, 112, 50, 670, 2, 9, 35, 480, 284, 5, 150, 4, 172, 112, 167, 2, 336, 385, 39, 4, 172, 2, 2, 17, 546, 38, 13, 447, 4, 192, 50, 16, 6, 147, 2, 19, 14, 22, 4, 2, 2, 469, 4, 22, 71, 87, 12, 16, 43, 530, 38, 76, 15, 13, 2, 4, 22, 17, 515, 17, 12, 16, 626, 18, 2, 5, 62, 386, 12, 8, 316, 8, 106, 5, 4, 2, 2, 16, 480, 66, 2, 33, 4, 130, 12, 16, 38, 619, 5, 25, 124, 51, 36, 135, 48, 25, 2, 33, 6, 22, 12, 215, 28, 77, 52, 5, 14, 407, 16, 82, 2, 8, 4, 107, 117, 2, 15, 256, 4, 2, 7, 2, 5, 723, 36, 71, 43, 530, 476, 26, 400, 317, 46, 7, 4, 2, 2, 13, 104, 88, 4, 381, 15, 297, 98, 32, 2, 56, 26, 141, 6, 194, 2, 18, 4, 226, 22, 21, 134, 476, 26, 480, 5, 144, 30, 2, 18, 51, 36, 28, 224, 92, 25, 104, 4, 226, 65, 16, 38, 2, 88, 12, 16, 283, 5, 16, 2, 113, 103, 32, 15, 16, 2, 19, 178, 32]\n",
      "1\n"
     ]
    }
   ],
   "source": [
    "# Load imdb dataset using Keras build-in function\n",
    "from tensorflow.keras.datasets import imdb \n",
    "# Split training and testing set\n",
    "# The argument num_words=1000 means you’ll only keep the top 1000 most frequently occurring words in the training data. Rare words will be discarded.\n",
    "# The variables train_data and test_data are lists of reviews; each review is a list of word indices (encoding a sequence of words). train_labels and \n",
    "# test_labels are lists of 0s and 1s, where 0 stands for negative and 1 stands for positive.\n",
    "(train_data, train_labels), (test_data, test_labels) = imdb.load_data(num_words=1000)\n",
    "\n",
    "# Print out the sizh and example of input data\n",
    "# Note that the data has been pre-processed and the words are replaced by a word ID\n",
    "print(train_data.shape)\n",
    "print(train_labels.shape)\n",
    "print(train_data[0])\n",
    "print(train_labels[0])\n",
    "\n"
   ]
  },
  {
   "cell_type": "code",
   "execution_count": 3,
   "id": "04539da4-8483-47bf-b612-509086ffefeb",
   "metadata": {},
   "outputs": [],
   "source": [
    "# You can’t directly feed lists of integers into a neural network. They all have different lengths, \n",
    "# but a neural network expects to process contiguous batches of data. You can transform it into a multi-hot vector using following function.\n",
    "import numpy as np\n",
    "def vectorize_sequence(sequences, dimension=1000):\n",
    "    results = np.zeros((len(sequences), dimension))\n",
    "    for i, sequence in enumerate(sequences):\n",
    "        for j in sequence:\n",
    "            results[i,j] = 1.\n",
    "    return results\n",
    "\n",
    "train_data = vectorize_sequence(train_data)\n",
    "test_data = vectorize_sequence(test_data)\n"
   ]
  },
  {
   "cell_type": "code",
   "execution_count": 4,
   "id": "308a846a-ed2c-4a7b-8e13-6f0bb324384e",
   "metadata": {},
   "outputs": [
    {
     "name": "stderr",
     "output_type": "stream",
     "text": [
      "2022-10-09 05:33:45.107243: W tensorflow/stream_executor/platform/default/dso_loader.cc:64] Could not load dynamic library 'libcuda.so.1'; dlerror: libcuda.so.1: cannot open shared object file: No such file or directory\n",
      "2022-10-09 05:33:45.107278: W tensorflow/stream_executor/cuda/cuda_driver.cc:269] failed call to cuInit: UNKNOWN ERROR (303)\n",
      "2022-10-09 05:33:45.107297: I tensorflow/stream_executor/cuda/cuda_diagnostics.cc:156] kernel driver does not appear to be running on this host (publicserver): /proc/driver/nvidia/version does not exist\n",
      "2022-10-09 05:33:45.107523: I tensorflow/core/platform/cpu_feature_guard.cc:193] This TensorFlow binary is optimized with oneAPI Deep Neural Network Library (oneDNN) to use the following CPU instructions in performance-critical operations:  AVX2 FMA\n",
      "To enable them in other operations, rebuild TensorFlow with the appropriate compiler flags.\n"
     ]
    }
   ],
   "source": [
    "# Import package for building models in Keras\n",
    "from tensorflow import keras \n",
    "from tensorflow.keras import layers \n",
    "\n",
    "# Building a three-layer model to solve the problem\n",
    "# The first argument passed to each Dense layer is the number of units in the layer: the dimensionality of the representation space of the layer.\n",
    "model = keras.Sequential([\n",
    "layers.Dense(16, activation=\"relu\"), \n",
    "layers.Dense(16, activation=\"relu\"), \n",
    "layers.Dense(1, activation=\"sigmoid\")])\n"
   ]
  },
  {
   "cell_type": "code",
   "execution_count": 5,
   "id": "d43ebbbb-9707-48e0-bc38-995f4c63050f",
   "metadata": {},
   "outputs": [],
   "source": [
    "# Compile the model by provding optimizer, loss and the metrics to track. rmsprop optimizaer is usually a good default choice for virtually any problem.\n",
    "# Since the problem is a binary classification problem and the output of your model is a probability (model ends with sigmoid activation). It’s best to use the binary_crossentropy loss. \n",
    "model.compile(optimizer=\"rmsprop\", \n",
    "loss=\"binary_crossentropy\", \n",
    "metrics=[\"accuracy\"])\n"
   ]
  },
  {
   "cell_type": "code",
   "execution_count": 6,
   "id": "bb4009f4-7664-4248-b99b-092652aacecf",
   "metadata": {},
   "outputs": [
    {
     "name": "stdout",
     "output_type": "stream",
     "text": [
      "Epoch 1/20\n",
      "469/469 [==============================] - 2s 2ms/step - loss: 0.4285 - accuracy: 0.8034 - val_loss: 0.3435 - val_accuracy: 0.8536\n",
      "Epoch 2/20\n",
      "469/469 [==============================] - 1s 2ms/step - loss: 0.3259 - accuracy: 0.8654 - val_loss: 0.3319 - val_accuracy: 0.8606\n",
      "Epoch 3/20\n",
      "469/469 [==============================] - 1s 2ms/step - loss: 0.3077 - accuracy: 0.8720 - val_loss: 0.3369 - val_accuracy: 0.8591\n",
      "Epoch 4/20\n",
      "469/469 [==============================] - 1s 2ms/step - loss: 0.2939 - accuracy: 0.8774 - val_loss: 0.3485 - val_accuracy: 0.8596\n",
      "Epoch 5/20\n",
      "469/469 [==============================] - 1s 2ms/step - loss: 0.2799 - accuracy: 0.8857 - val_loss: 0.3497 - val_accuracy: 0.8578\n",
      "Epoch 6/20\n",
      "469/469 [==============================] - 1s 2ms/step - loss: 0.2627 - accuracy: 0.8968 - val_loss: 0.3621 - val_accuracy: 0.8530\n",
      "Epoch 7/20\n",
      "469/469 [==============================] - 1s 2ms/step - loss: 0.2469 - accuracy: 0.9055 - val_loss: 0.3778 - val_accuracy: 0.8512\n",
      "Epoch 8/20\n",
      "469/469 [==============================] - 1s 2ms/step - loss: 0.2291 - accuracy: 0.9110 - val_loss: 0.4016 - val_accuracy: 0.8506\n",
      "Epoch 9/20\n",
      "469/469 [==============================] - 1s 2ms/step - loss: 0.2116 - accuracy: 0.9185 - val_loss: 0.4606 - val_accuracy: 0.8463\n",
      "Epoch 10/20\n",
      "469/469 [==============================] - 1s 2ms/step - loss: 0.1937 - accuracy: 0.9289 - val_loss: 0.4643 - val_accuracy: 0.8429\n",
      "Epoch 11/20\n",
      "469/469 [==============================] - 1s 2ms/step - loss: 0.1777 - accuracy: 0.9355 - val_loss: 0.5068 - val_accuracy: 0.8456\n",
      "Epoch 12/20\n",
      "469/469 [==============================] - 1s 2ms/step - loss: 0.1618 - accuracy: 0.9420 - val_loss: 0.5458 - val_accuracy: 0.8410\n",
      "Epoch 13/20\n",
      "469/469 [==============================] - 1s 2ms/step - loss: 0.1443 - accuracy: 0.9500 - val_loss: 0.5810 - val_accuracy: 0.8418\n",
      "Epoch 14/20\n",
      "469/469 [==============================] - 1s 2ms/step - loss: 0.1307 - accuracy: 0.9569 - val_loss: 0.6266 - val_accuracy: 0.8369\n",
      "Epoch 15/20\n",
      "469/469 [==============================] - 1s 2ms/step - loss: 0.1185 - accuracy: 0.9629 - val_loss: 0.6982 - val_accuracy: 0.8339\n",
      "Epoch 16/20\n",
      "469/469 [==============================] - 1s 2ms/step - loss: 0.1035 - accuracy: 0.9680 - val_loss: 0.7569 - val_accuracy: 0.8307\n",
      "Epoch 17/20\n",
      "469/469 [==============================] - 1s 2ms/step - loss: 0.0922 - accuracy: 0.9717 - val_loss: 0.7455 - val_accuracy: 0.8283\n",
      "Epoch 18/20\n",
      "469/469 [==============================] - 1s 2ms/step - loss: 0.0838 - accuracy: 0.9759 - val_loss: 0.8587 - val_accuracy: 0.8285\n",
      "Epoch 19/20\n",
      "469/469 [==============================] - 1s 2ms/step - loss: 0.0731 - accuracy: 0.9798 - val_loss: 0.9247 - val_accuracy: 0.8254\n",
      "Epoch 20/20\n",
      "469/469 [==============================] - 1s 2ms/step - loss: 0.0653 - accuracy: 0.9817 - val_loss: 1.0044 - val_accuracy: 0.8269\n"
     ]
    }
   ],
   "source": [
    "# To track the performance of the model during training, you can manually spilit a validation data here. \n",
    "x_val = train_data[:10000] \n",
    "partial_x_train = train_data[10000:] \n",
    "y_val = train_labels[:10000] \n",
    "partial_y_train = train_labels[10000:]\n",
    "\n",
    "# Feed data into the model\n",
    "history = model.fit(partial_x_train, partial_y_train, epochs=20, batch_size=32, validation_data=(x_val, y_val))"
   ]
  },
  {
   "cell_type": "code",
   "execution_count": 7,
   "id": "dcd0062c-b6de-4115-8c1e-f104f3a20a52",
   "metadata": {},
   "outputs": [
    {
     "name": "stdout",
     "output_type": "stream",
     "text": [
      "dict_keys(['loss', 'accuracy', 'val_loss', 'val_accuracy'])\n"
     ]
    }
   ],
   "source": [
    "# list all data in history\n",
    "print(history.history.keys())\n"
   ]
  },
  {
   "cell_type": "code",
   "execution_count": 8,
   "id": "d9070d0d-458e-42b7-b13a-a5d60141dfe9",
   "metadata": {},
   "outputs": [
    {
     "data": {
      "image/png": "[encoded data removed]",
      "text/plain": [
       "<Figure size 432x288 with 1 Axes>"
      ]
     },
     "metadata": {
      "needs_background": "light"
     },
     "output_type": "display_data"
    },
    {
     "data": {
      "image/png": "[encoded data removed]",
      "text/plain": [
       "<Figure size 432x288 with 1 Axes>"
      ]
     },
     "metadata": {
      "needs_background": "light"
     },
     "output_type": "display_data"
    }
   ],
   "source": [
    "# plot the loss and accuracy in the history\n",
    "import matplotlib.pyplot as plt\n",
    "\n",
    "# summarize history for accuracy\n",
    "plt.plot(history.history['accuracy'])\n",
    "plt.plot(history.history['val_accuracy'])\n",
    "plt.title('model accuracy')\n",
    "plt.ylabel('accuracy')\n",
    "plt.xlabel('epoch')\n",
    "plt.legend(['train', 'validate'], loc='upper left')\n",
    "plt.show()\n",
    "\n",
    "# summarize history for loss\n",
    "plt.plot(history.history['loss'])\n",
    "plt.plot(history.history['val_loss'])\n",
    "plt.title('model loss')\n",
    "plt.ylabel('loss')\n",
    "plt.xlabel('epoch')\n",
    "plt.legend(['train', 'validate'], loc='upper left')\n",
    "plt.show()\n"
   ]
  },
  {
   "cell_type": "code",
   "execution_count": 9,
   "id": "4b3477bb-6926-4b6e-bee5-478796774fa2",
   "metadata": {},
   "outputs": [
    {
     "name": "stdout",
     "output_type": "stream",
     "text": [
      "782/782 [==============================] - 1s 743us/step\n",
      "(25000, 1)\n",
      "[[0.02268844]\n",
      " [1.        ]\n",
      " [0.9988071 ]\n",
      " [0.99999136]\n",
      " [0.99997824]]\n",
      "782/782 [==============================] - 1s 895us/step - loss: 0.9827 - accuracy: 0.8200\n",
      "['loss', 'accuracy']\n",
      "[0.9826968908309937, 0.8199599981307983]\n"
     ]
    }
   ],
   "source": [
    "# After having trained a model, you can predict the classification of reviews on test data or other new data. The function is pretty like scikit-learn style\n",
    "predict_result = model.predict(test_data) \n",
    "print(predict_result.shape)\n",
    "print(predict_result[:5])\n",
    "\n",
    "# Or you can evaluate the model using evaluate function\n",
    "evaluation_result = model.evaluate(test_data, test_labels)\n",
    "# print out the evaluation result on the corrsponding metrics\n",
    "print(model.metrics_names)\n",
    "print(evaluation_result)\n"
   ]
  },
  {
   "cell_type": "markdown",
   "id": "bd86a7a4-370d-463a-81e2-8ecb75e93dd1",
   "metadata": {},
   "source": [
    "* The following example will cover the regression problem. "
   ]
  },
  {
   "cell_type": "code",
   "execution_count": 10,
   "id": "4c8be4d0-863b-4a3a-8380-9f2f3f352df1",
   "metadata": {},
   "outputs": [
    {
     "name": "stdout",
     "output_type": "stream",
     "text": [
      "(404, 13)\n",
      "(404,)\n",
      "[  1.23247   0.        8.14      0.        0.538     6.142    91.7\n",
      "   3.9769    4.      307.       21.      396.9      18.72   ]\n",
      "15.2\n"
     ]
    }
   ],
   "source": [
    "# Similarly, load the boston_housing data using Keras build-in function\n",
    "from tensorflow.keras.datasets import boston_housing \n",
    "(train_data, train_targets), (test_data, test_targets) = (boston_housing.load_data())\n",
    "\n",
    "# Print out the sizh and example of input data\n",
    "print(train_data.shape)\n",
    "print(train_targets.shape)\n",
    "print(train_data[0])\n",
    "print(train_targets[0])\n"
   ]
  },
  {
   "cell_type": "code",
   "execution_count": 11,
   "id": "e8543768-d8d7-4023-ad25-157496b771c1",
   "metadata": {},
   "outputs": [
    {
     "name": "stdout",
     "output_type": "stream",
     "text": [
      "(404, 13)\n",
      "(404,)\n",
      "[0.01378163 0.         0.28152493 0.         0.31481481 0.49980635\n",
      " 0.91452111 0.29719123 0.13043478 0.22753346 0.89361702 1.\n",
      " 0.46881898]\n",
      "15.2\n"
     ]
    }
   ],
   "source": [
    "# Perform feature-wise normalization\n",
    "from sklearn.preprocessing import MinMaxScaler\n",
    "mms = MinMaxScaler()\n",
    "mms.fit(train_data)\n",
    "train_data = mms.transform(train_data)\n",
    "test_data = mms.transform(test_data)\n",
    "\n",
    "# Print out the sizh and example of input data\n",
    "print(train_data.shape)\n",
    "print(train_targets.shape)\n",
    "print(train_data[0])\n",
    "print(train_targets[0])\n"
   ]
  },
  {
   "cell_type": "code",
   "execution_count": 12,
   "id": "331a89e8-0507-4ecf-a6e3-ce5edb6b9ba7",
   "metadata": {},
   "outputs": [],
   "source": [
    "# Building a three-layer model to solve the problem\n",
    "model = keras.Sequential([\n",
    "layers.Dense(64, activation=\"relu\"), \n",
    "layers.Dense(64, activation=\"relu\"), \n",
    "layers.Dense(1) ]) \n",
    "# Compile the model with rmsprop as optimizer and use MSE as loss. When building the model, also track MAE as an extra metrics.\n",
    "model.compile(optimizer=\"rmsprop\", loss=\"mse\", metrics=[\"mae\"]) \n",
    "\n"
   ]
  },
  {
   "cell_type": "code",
   "execution_count": 13,
   "id": "b8fa3b74-0ece-4c25-bfed-ea70928dc739",
   "metadata": {},
   "outputs": [
    {
     "name": "stdout",
     "output_type": "stream",
     "text": [
      "Epoch 1/50\n",
      "11/11 [==============================] - 1s 13ms/step - loss: 542.3476 - mae: 21.4455 - val_loss: 481.8300 - val_mae: 19.5191\n",
      "Epoch 2/50\n",
      "11/11 [==============================] - 0s 4ms/step - loss: 455.3653 - mae: 19.2154 - val_loss: 394.3622 - val_mae: 17.0360\n",
      "Epoch 3/50\n",
      "11/11 [==============================] - 0s 4ms/step - loss: 361.3782 - mae: 16.5565 - val_loss: 295.6888 - val_mae: 13.6944\n",
      "Epoch 4/50\n",
      "11/11 [==============================] - 0s 4ms/step - loss: 263.8712 - mae: 13.3282 - val_loss: 211.1976 - val_mae: 11.1019\n",
      "Epoch 5/50\n",
      "11/11 [==============================] - 0s 3ms/step - loss: 186.6197 - mae: 10.5609 - val_loss: 159.2596 - val_mae: 9.6424\n",
      "Epoch 6/50\n",
      "11/11 [==============================] - 0s 3ms/step - loss: 141.1013 - mae: 9.0489 - val_loss: 130.1645 - val_mae: 8.7227\n",
      "Epoch 7/50\n",
      "11/11 [==============================] - 0s 4ms/step - loss: 116.3456 - mae: 8.1792 - val_loss: 118.9950 - val_mae: 8.1842\n",
      "Epoch 8/50\n",
      "11/11 [==============================] - 0s 3ms/step - loss: 105.4889 - mae: 7.6744 - val_loss: 108.1182 - val_mae: 7.8703\n",
      "Epoch 9/50\n",
      "11/11 [==============================] - 0s 3ms/step - loss: 94.1656 - mae: 7.2586 - val_loss: 98.4180 - val_mae: 7.1999\n",
      "Epoch 10/50\n",
      "11/11 [==============================] - 0s 3ms/step - loss: 85.2790 - mae: 6.8228 - val_loss: 89.2690 - val_mae: 6.8651\n",
      "Epoch 11/50\n",
      "11/11 [==============================] - 0s 3ms/step - loss: 76.3576 - mae: 6.3497 - val_loss: 81.9467 - val_mae: 6.8964\n",
      "Epoch 12/50\n",
      "11/11 [==============================] - 0s 3ms/step - loss: 68.5206 - mae: 6.0838 - val_loss: 73.2475 - val_mae: 6.3420\n",
      "Epoch 13/50\n",
      "11/11 [==============================] - 0s 3ms/step - loss: 62.1808 - mae: 5.6986 - val_loss: 68.3507 - val_mae: 5.5715\n",
      "Epoch 14/50\n",
      "11/11 [==============================] - 0s 3ms/step - loss: 57.8411 - mae: 5.3445 - val_loss: 64.7781 - val_mae: 5.2910\n",
      "Epoch 15/50\n",
      "11/11 [==============================] - 0s 3ms/step - loss: 53.9551 - mae: 5.1392 - val_loss: 61.8145 - val_mae: 5.1442\n",
      "Epoch 16/50\n",
      "11/11 [==============================] - 0s 3ms/step - loss: 51.1662 - mae: 4.9508 - val_loss: 57.5999 - val_mae: 5.2263\n",
      "Epoch 17/50\n",
      "11/11 [==============================] - 0s 3ms/step - loss: 48.2011 - mae: 4.8704 - val_loss: 58.5757 - val_mae: 4.8892\n",
      "Epoch 18/50\n",
      "11/11 [==============================] - 0s 3ms/step - loss: 46.9283 - mae: 4.6874 - val_loss: 53.3964 - val_mae: 5.2556\n",
      "Epoch 19/50\n",
      "11/11 [==============================] - 0s 3ms/step - loss: 44.8799 - mae: 4.7337 - val_loss: 53.6987 - val_mae: 4.8087\n",
      "Epoch 20/50\n",
      "11/11 [==============================] - 0s 6ms/step - loss: 43.1190 - mae: 4.4994 - val_loss: 50.5645 - val_mae: 4.9182\n",
      "Epoch 21/50\n",
      "11/11 [==============================] - 0s 4ms/step - loss: 41.9103 - mae: 4.4815 - val_loss: 48.5356 - val_mae: 4.9421\n",
      "Epoch 22/50\n",
      "11/11 [==============================] - 0s 3ms/step - loss: 40.5807 - mae: 4.4789 - val_loss: 50.9812 - val_mae: 4.5619\n",
      "Epoch 23/50\n",
      "11/11 [==============================] - 0s 4ms/step - loss: 38.8668 - mae: 4.1765 - val_loss: 45.9699 - val_mae: 4.8368\n",
      "Epoch 24/50\n",
      "11/11 [==============================] - 0s 4ms/step - loss: 37.8685 - mae: 4.2658 - val_loss: 45.4585 - val_mae: 4.5599\n",
      "Epoch 25/50\n",
      "11/11 [==============================] - 0s 4ms/step - loss: 36.9121 - mae: 4.1242 - val_loss: 43.5592 - val_mae: 4.5577\n",
      "Epoch 26/50\n",
      "11/11 [==============================] - 0s 4ms/step - loss: 35.1772 - mae: 4.0828 - val_loss: 42.6692 - val_mae: 4.9420\n",
      "Epoch 27/50\n",
      "11/11 [==============================] - 0s 3ms/step - loss: 34.9728 - mae: 4.1676 - val_loss: 40.9482 - val_mae: 4.7498\n",
      "Epoch 28/50\n",
      "11/11 [==============================] - 0s 4ms/step - loss: 33.3653 - mae: 4.0794 - val_loss: 39.4756 - val_mae: 4.4465\n",
      "Epoch 29/50\n",
      "11/11 [==============================] - 0s 3ms/step - loss: 32.3131 - mae: 3.9540 - val_loss: 39.7056 - val_mae: 4.1393\n",
      "Epoch 30/50\n",
      "11/11 [==============================] - 0s 4ms/step - loss: 32.0207 - mae: 3.8681 - val_loss: 40.0993 - val_mae: 4.0439\n",
      "Epoch 31/50\n",
      "11/11 [==============================] - 0s 3ms/step - loss: 30.6635 - mae: 3.8002 - val_loss: 39.8034 - val_mae: 4.0188\n",
      "Epoch 32/50\n",
      "11/11 [==============================] - 0s 3ms/step - loss: 30.0948 - mae: 3.8106 - val_loss: 35.5308 - val_mae: 4.0664\n",
      "Epoch 33/50\n",
      "11/11 [==============================] - 0s 3ms/step - loss: 29.0579 - mae: 3.6760 - val_loss: 35.1948 - val_mae: 3.9122\n",
      "Epoch 34/50\n",
      "11/11 [==============================] - 0s 3ms/step - loss: 28.5302 - mae: 3.6719 - val_loss: 33.0081 - val_mae: 4.0930\n",
      "Epoch 35/50\n",
      "11/11 [==============================] - 0s 3ms/step - loss: 27.8038 - mae: 3.6809 - val_loss: 32.1063 - val_mae: 3.9252\n",
      "Epoch 36/50\n",
      "11/11 [==============================] - 0s 3ms/step - loss: 26.7894 - mae: 3.6313 - val_loss: 34.6712 - val_mae: 3.8149\n",
      "Epoch 37/50\n",
      "11/11 [==============================] - 0s 3ms/step - loss: 26.4913 - mae: 3.5128 - val_loss: 31.3477 - val_mae: 3.7244\n",
      "Epoch 38/50\n",
      "11/11 [==============================] - 0s 3ms/step - loss: 25.9517 - mae: 3.5014 - val_loss: 30.1014 - val_mae: 3.9187\n",
      "Epoch 39/50\n",
      "11/11 [==============================] - 0s 3ms/step - loss: 25.2747 - mae: 3.4982 - val_loss: 29.0467 - val_mae: 3.7112\n",
      "Epoch 40/50\n",
      "11/11 [==============================] - 0s 3ms/step - loss: 25.5184 - mae: 3.4980 - val_loss: 28.4235 - val_mae: 3.6715\n",
      "Epoch 41/50\n",
      "11/11 [==============================] - 0s 3ms/step - loss: 24.4039 - mae: 3.3880 - val_loss: 30.1142 - val_mae: 4.1070\n",
      "Epoch 42/50\n",
      "11/11 [==============================] - 0s 3ms/step - loss: 24.5933 - mae: 3.5271 - val_loss: 26.9858 - val_mae: 3.5770\n",
      "Epoch 43/50\n",
      "11/11 [==============================] - 0s 3ms/step - loss: 23.1728 - mae: 3.3068 - val_loss: 28.4494 - val_mae: 3.5506\n",
      "Epoch 44/50\n",
      "11/11 [==============================] - 0s 3ms/step - loss: 23.5607 - mae: 3.2856 - val_loss: 27.5691 - val_mae: 3.8140\n",
      "Epoch 45/50\n",
      "11/11 [==============================] - 0s 3ms/step - loss: 23.0225 - mae: 3.3588 - val_loss: 26.6840 - val_mae: 3.4521\n",
      "Epoch 46/50\n",
      "11/11 [==============================] - 0s 4ms/step - loss: 23.1740 - mae: 3.2400 - val_loss: 25.7191 - val_mae: 3.4439\n",
      "Epoch 47/50\n",
      "11/11 [==============================] - 0s 5ms/step - loss: 22.3938 - mae: 3.2245 - val_loss: 27.5921 - val_mae: 3.8786\n",
      "Epoch 48/50\n",
      "11/11 [==============================] - 0s 4ms/step - loss: 22.4974 - mae: 3.2932 - val_loss: 25.1163 - val_mae: 3.4102\n",
      "Epoch 49/50\n",
      "11/11 [==============================] - 0s 3ms/step - loss: 21.9984 - mae: 3.1761 - val_loss: 25.8158 - val_mae: 3.4112\n",
      "Epoch 50/50\n",
      "11/11 [==============================] - 0s 4ms/step - loss: 21.9415 - mae: 3.1542 - val_loss: 25.9725 - val_mae: 3.4099\n"
     ]
    }
   ],
   "source": [
    "# To track the performance of the model during training, you can manually spilit a validation data here. \n",
    "from sklearn.model_selection import train_test_split\n",
    "x_train, x_val, y_train, y_val = train_test_split(train_data, train_targets, test_size = 0.20)\n",
    "\n",
    "# Feed data into the model\n",
    "history = model.fit(x_train, y_train, epochs=50, batch_size=32, validation_data=(x_val, y_val))\n"
   ]
  },
  {
   "cell_type": "code",
   "execution_count": 14,
   "id": "eceac491-0f36-4428-8d1a-ed20e731722a",
   "metadata": {},
   "outputs": [
    {
     "name": "stdout",
     "output_type": "stream",
     "text": [
      "dict_keys(['loss', 'mae', 'val_loss', 'val_mae'])\n"
     ]
    }
   ],
   "source": [
    "# list all data in history\n",
    "print(history.history.keys())"
   ]
  },
  {
   "cell_type": "code",
   "execution_count": 15,
   "id": "98f30d72-3962-4705-b82d-1f4cf8f1900b",
   "metadata": {},
   "outputs": [
    {
     "data": {
      "image/png": "[encoded data removed]",
      "text/plain": [
       "<Figure size 432x288 with 1 Axes>"
      ]
     },
     "metadata": {
      "needs_background": "light"
     },
     "output_type": "display_data"
    },
    {
     "data": {
      "image/png": "[encoded data removed]",
      "text/plain": [
       "<Figure size 432x288 with 1 Axes>"
      ]
     },
     "metadata": {
      "needs_background": "light"
     },
     "output_type": "display_data"
    }
   ],
   "source": [
    "# plot the loss and accuracy in the history\n",
    "import matplotlib.pyplot as plt\n",
    "\n",
    "# summarize history for accuracy\n",
    "plt.plot(history.history['mae'])\n",
    "plt.plot(history.history['val_mae'])\n",
    "plt.title('model mean average error')\n",
    "plt.ylabel('mean average error')\n",
    "plt.xlabel('epoch')\n",
    "plt.legend(['train', 'validate'], loc='upper left')\n",
    "plt.show()\n",
    "\n",
    "# summarize history for loss\n",
    "plt.plot(history.history['loss'])\n",
    "plt.plot(history.history['val_loss'])\n",
    "plt.title('model loss')\n",
    "plt.ylabel('loss')\n",
    "plt.xlabel('epoch')\n",
    "plt.legend(['train', 'validate'], loc='upper left')\n",
    "plt.show()"
   ]
  },
  {
   "cell_type": "code",
   "execution_count": 16,
   "id": "ef6e5dd3-0f58-4ece-98c4-97b158eef7df",
   "metadata": {},
   "outputs": [
    {
     "name": "stdout",
     "output_type": "stream",
     "text": [
      "4/4 [==============================] - 0s 2ms/step\n",
      "(102, 1)\n",
      "[[ 8.627609]\n",
      " [18.393309]\n",
      " [19.951834]\n",
      " [32.50511 ]\n",
      " [22.674633]]\n",
      "4/4 [==============================] - 0s 1ms/step - loss: 25.1670 - mae: 3.6118\n",
      "['loss', 'mae']\n",
      "[25.166976928710938, 3.611806869506836]\n"
     ]
    }
   ],
   "source": [
    "# After having trained a model, you can predict the classification of reviews on test data or other new data. The function is pretty like scikit-learn style\n",
    "predict_result = model.predict(test_data) \n",
    "print(predict_result.shape)\n",
    "print(predict_result[:5])\n",
    "\n",
    "# Or you can evaluate the model using evaluate function\n",
    "evaluation_result = model.evaluate(test_data, test_targets)\n",
    "# print out the evaluation result on the corrsponding metrics\n",
    "print(model.metrics_names)\n",
    "print(evaluation_result)\n"
   ]
  }
 ],
 "metadata": {
  "kernelspec": {
   "display_name": "Python 3 (ipykernel)",
   "language": "python",
   "name": "python3"
  },
  "language_info": {
   "codemirror_mode": {
    "name": "ipython",
    "version": 3
   },
   "file_extension": ".py",
   "mimetype": "text/x-python",
   "name": "python",
   "nbconvert_exporter": "python",
   "pygments_lexer": "ipython3",
   "version": "3.9.12"
  }
 },
 "nbformat": 4,
 "nbformat_minor": 5
}
